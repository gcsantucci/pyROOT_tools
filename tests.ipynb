{
 "cells": [
  {
   "cell_type": "code",
   "execution_count": 1,
   "metadata": {
    "collapsed": false
   },
   "outputs": [
    {
     "data": {
      "application/javascript": [
       "require(['codemirror/mode/clike/clike'], function(Clike) { console.log('ROOTaaS - C++ CodeMirror module loaded'); });"
      ]
     },
     "metadata": {},
     "output_type": "display_data"
    },
    {
     "data": {
      "application/javascript": [
       "IPython.CodeCell.config_defaults.highlight_modes['magic_text/x-c++src'] = {'reg':[/^%%cpp/]};"
      ]
     },
     "metadata": {},
     "output_type": "display_data"
    },
    {
     "name": "stdout",
     "output_type": "stream",
     "text": [
      "Welcome to ROOTaaS 6.06/02\n"
     ]
    }
   ],
   "source": [
    "import ROOT\n",
    "from ROOT import gROOT, TCanvas, TF1, TFile, TTree, gRandom, TH1F\n",
    "import numpy as np\n",
    "import sys"
   ]
  },
  {
   "cell_type": "code",
   "execution_count": 2,
   "metadata": {
    "collapsed": true
   },
   "outputs": [],
   "source": [
    "from tools import *"
   ]
  },
  {
   "cell_type": "code",
   "execution_count": 3,
   "metadata": {
    "collapsed": true
   },
   "outputs": [],
   "source": [
    "gROOT.Reset()\n",
    "c1 = TCanvas( 'c1', 'Tests', 200, 10, 700, 500 )"
   ]
  },
  {
   "cell_type": "code",
   "execution_count": 4,
   "metadata": {
    "collapsed": true
   },
   "outputs": [],
   "source": [
    "path = '/Users/gabrielsantucci/Dropbox/PhD/SK/fiTQun_analysis/Knu_muGamma/atmnu/multiring/'\n",
    "files = path + 'files/'"
   ]
  },
  {
   "cell_type": "code",
   "execution_count": 5,
   "metadata": {
    "collapsed": true
   },
   "outputs": [],
   "source": [
    "pdk = GetTree(path=files, f1='pdk/pdk_100k.root', f2='pdk/pdk_100k_new3.root')"
   ]
  },
  {
   "cell_type": "code",
   "execution_count": 6,
   "metadata": {
    "collapsed": true
   },
   "outputs": [],
   "source": [
    "atm = GetTree(path=files, f1='atm/500years/atm_500years_0-500.root', f2='atm/500years/atm_500years_0-500_new.root',\n",
    "             tree1='h1', tree2='treePDK')"
   ]
  },
  {
   "cell_type": "code",
   "execution_count": 7,
   "metadata": {
    "collapsed": true
   },
   "outputs": [],
   "source": [
    "sample = 'FCFV && fqnse == 2'\n",
    "mg = ' && MuGamma'"
   ]
  },
  {
   "cell_type": "code",
   "execution_count": 8,
   "metadata": {
    "collapsed": false
   },
   "outputs": [
    {
     "data": {
      "image/png": "[encoded data removed]",
      "text/plain": [
       "<IPython.core.display.Image object>"
      ]
     },
     "metadata": {},
     "output_type": "display_data"
    }
   ],
   "source": [
    "var = 'FQptotMu'\n",
    "cut = sample # + ' && fqmrnring[0] < 3'\n",
    "nbins = 50\n",
    "xmin = 100\n",
    "xmax = 600\n",
    "title = 'Muon Momentum'\n",
    "xlabel = 'P_mu (MeV)'\n",
    "save=False\n",
    "leg = ['atm nu MC', 'MuGamma']\n",
    "\n",
    "canvas = Draw2Hists(c1, tree1=atm, tree2=pdk, var=var, cut1=cut, cut2=cut+mg,\n",
    "               nbins=nbins, xmin=xmin, xmax=xmax,\n",
    "               title=title, xlabel=xlabel, ylabel='',\n",
    "               col1=2, col2=4, log=True, norm=False, save=save, stats=False, leg=leg)"
   ]
  },
  {
   "cell_type": "code",
   "execution_count": 11,
   "metadata": {
    "collapsed": false
   },
   "outputs": [
    {
     "data": {
      "image/png": "[encoded data removed]",
      "text/plain": [
       "<IPython.core.display.Image object>"
      ]
     },
     "metadata": {},
     "output_type": "display_data"
    }
   ],
   "source": [
    "leg.reverse()\n",
    "canvas = Draw2Hists(c1, tree1=pdk, tree2=atm, var=var, cut1=cut+mg, cut2=cut,\n",
    "               nbins=nbins, xmin=xmin, xmax=xmax,\n",
    "               title=title, xlabel=xlabel, ylabel='',\n",
    "               col1=4, col2=2, log=False, norm=True, save=save, stats=False, leg=leg)"
   ]
  },
  {
   "cell_type": "code",
   "execution_count": null,
   "metadata": {
    "collapsed": true
   },
   "outputs": [],
   "source": []
  }
 ],
 "metadata": {
  "anaconda-cloud": {},
  "kernelspec": {
   "display_name": "Python [default]",
   "language": "python",
   "name": "python2"
  },
  "language_info": {
   "codemirror_mode": {
    "name": "ipython",
    "version": 2
   },
   "file_extension": ".py",
   "mimetype": "text/x-python",
   "name": "python",
   "nbconvert_exporter": "python",
   "pygments_lexer": "ipython2",
   "version": "2.7.12"
  }
 },
 "nbformat": 4,
 "nbformat_minor": 1
}
